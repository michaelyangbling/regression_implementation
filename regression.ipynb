{
 "cells": [
  {
   "cell_type": "code",
   "execution_count": 292,
   "metadata": {},
   "outputs": [
    {
     "name": "stderr",
     "output_type": "stream",
     "text": [
      "/Library/Frameworks/Python.framework/Versions/3.5/lib/python3.5/site-packages/sklearn/cross_validation.py:41: DeprecationWarning: This module was deprecated in version 0.18 in favor of the model_selection module into which all the refactored classes and functions are moved. Also note that the interface of the new CV iterators are different from that of this module. This module will be removed in 0.20.\n  \"This module will be removed in 0.20.\", DeprecationWarning)\n"
     ]
    }
   ],
   "source": [
    "import scipy.io\n",
    "import numpy as np\n",
    "import random\n",
    "import time\n",
    "from sklearn.cross_validation import KFold"
   ]
  },
  {
   "cell_type": "code",
   "execution_count": 224,
   "metadata": {},
   "outputs": [
    {
     "data": {
      "text/plain": [
       "0.0"
      ]
     },
     "execution_count": 224,
     "metadata": {},
     "output_type": "execute_result"
    }
   ],
   "source": [
    "a=time.time();b=a=time.time();a-b"
   ]
  },
  {
   "cell_type": "code",
   "execution_count": 3,
   "metadata": {},
   "outputs": [],
   "source": [
    "mat = scipy.io.loadmat('/Users/yzh/Desktop/cour/supervised/HW1_Data/dataset1.mat')"
   ]
  },
  {
   "cell_type": "code",
   "execution_count": 9,
   "metadata": {
    "collapsed": false
   },
   "outputs": [
    {
     "data": {
      "text/plain": [
       "dict_keys(['Y_trn', 'X_tst', 'Y_tst', 'X_trn', '__header__', '__version__', '__globals__'])"
      ]
     },
     "execution_count": 9,
     "metadata": {},
     "output_type": "execute_result"
    }
   ],
   "source": [
    "mat.keys()"
   ]
  },
  {
   "cell_type": "code",
   "execution_count": 164,
   "metadata": {},
   "outputs": [],
   "source": [
    "def getPolyMat(input, power): #get poly feature matrix\n",
    "  result=np.power(input,0)\n",
    "  for i in range(1,power+1):\n",
    "      result=np.concatenate((result,np.power(input,i)),axis=1)\n",
    "  return result"
   ]
  },
  {
   "cell_type": "code",
   "execution_count": 169,
   "metadata": {
    "collapsed": true
   },
   "outputs": [
    {
     "data": {
      "text/plain": [
       "array([[ 1.41883768],\n       [-3.08617234],\n       [-2.33266533],\n       [-2.38076152],\n       [-0.53707415],\n       [ 3.03807615],\n       [ 2.66933868],\n       [ 0.92184369],\n       [ 2.49298597],\n       [-3.90380762],\n       [-2.09218437],\n       [-0.2004008 ],\n       [-2.90981964],\n       [-1.8997996 ],\n       [ 0.6492986 ],\n       [-3.7755511 ],\n       [-2.17234469],\n       [ 3.34268537],\n       [ 1.13026052],\n       [-1.16232465],\n       [ 0.90581162],\n       [ 0.77755511],\n       [ 0.29659319],\n       [ 1.56312625],\n       [ 1.498998  ],\n       [-3.3747495 ],\n       [ 1.06613226],\n       [-3.74348697],\n       [-2.34869739],\n       [-2.42885772],\n       [ 3.18236473],\n       [-1.64328657],\n       [ 2.55711423],\n       [-1.35470942],\n       [ 3.93587174],\n       [-0.13627255],\n       [-1.14629259],\n       [ 1.22645291],\n       [ 3.51903808],\n       [-0.61723447],\n       [-2.79759519],\n       [-1.56312625],\n       [ 1.32264529],\n       [-1.94789579],\n       [-3.35871743],\n       [ 2.5250501 ],\n       [ 3.64729459],\n       [ 2.95791583],\n       [-3.87174349],\n       [ 3.21442886],\n       [ 2.23647295],\n       [-3.27855711],\n       [ 0.45691383],\n       [ 2.47695391],\n       [-2.9739479 ],\n       [ 0.87374749],\n       [-2.60521042],\n       [ 0.88977956],\n       [-1.65931864],\n       [ 0.34468938],\n       [-1.17835671],\n       [ 2.68537074],\n       [ 3.90380762],\n       [-1.93186373],\n       [ 0.50501002],\n       [ 3.61523046],\n       [ 3.45490982],\n       [ 1.81963928],\n       [ 2.20440882],\n       [ 1.29058116],\n       [ 3.11823647],\n       [-0.31262525],\n       [ 3.72745491],\n       [ 1.83567134],\n       [-3.39078156],\n       [ 1.88376754],\n       [-2.23647295],\n       [-0.84168337],\n       [ 0.2004008 ],\n       [ 0.8256513 ],\n       [-0.24849699],\n       [ 0.21643287],\n       [ 3.63126253],\n       [ 2.9258517 ],\n       [ 2.62124248],\n       [-0.29659319],\n       [-2.71743487],\n       [ 2.46092184],\n       [ 1.85170341],\n       [-2.15631263],\n       [ 1.08216433],\n       [-0.93787575],\n       [ 0.12024048],\n       [ 1.09819639],\n       [ 1.37074148],\n       [ 3.67935872],\n       [-3.95190381],\n       [ 0.24849699],\n       [-2.04408818],\n       [-1.38677355],\n       [-2.44488978],\n       [-2.66933868],\n       [-0.32865731],\n       [-3.26252505],\n       [ 3.02204409],\n       [ 3.69539078],\n       [ 0.63326653],\n       [-1.09819639],\n       [ 2.3006012 ],\n       [ 3.39078156],\n       [ 3.16633267],\n       [ 1.4509018 ],\n       [ 0.08817635],\n       [-3.79158317],\n       [-3.5511022 ],\n       [ 1.64328657],\n       [ 0.10420842],\n       [ 2.36472946],\n       [-2.87775551],\n       [-0.56913828]])"
      ]
     },
     "execution_count": 169,
     "metadata": {},
     "output_type": "execute_result"
    }
   ],
   "source": [
    "mat['X_trn']"
   ]
  },
  {
   "cell_type": "code",
   "execution_count": 273,
   "metadata": {
    "collapsed": true
   },
   "outputs": [],
   "source": [
    "train_X=getPolyMat(mat['X_trn'], 3)"
   ]
  },
  {
   "cell_type": "code",
   "execution_count": 95,
   "metadata": {
    "collapsed": true
   },
   "outputs": [],
   "source": [
    "def closeFormRegression(train, label):\n",
    "    return np.matmul(np.matmul( np.linalg.inv( np.matmul(train.transpose(), train) ),  train.transpose() ), label)"
   ]
  },
  {
   "cell_type": "code",
   "execution_count": 255,
   "metadata": {},
   "outputs": [],
   "source": [
    "theta=closeFormRegression(train_X, mat['Y_trn'])"
   ]
  },
  {
   "cell_type": "code",
   "execution_count": 150,
   "metadata": {
    "collapsed": false
   },
   "outputs": [
    {
     "data": {
      "text/plain": [
       "array([[ 9.49203678],\n       [ 4.79191663],\n       [ 1.52906587]])"
      ]
     },
     "execution_count": 150,
     "metadata": {},
     "output_type": "execute_result"
    }
   ],
   "source": [
    "theta"
   ]
  },
  {
   "cell_type": "code",
   "execution_count": 156,
   "metadata": {},
   "outputs": [],
   "source": [
    "def GradDesc(train, label, learnRate, stopWhen, batchSize):# stochastic GD\n",
    "    theta1=np.zeros((train.shape[1],1))\n",
    "    while(True):\n",
    "      batch=random.sample(range(0,label.shape[0]),batchSize)\n",
    "      theta2 = theta1 - learnRate * np.matmul(train.transpose(), np.matmul(train, theta1)- label)\n",
    "      if np.linalg.norm(theta2-theta1)<=stopWhen:\n",
    "          return theta2\n",
    "      theta1=theta2"
   ]
  },
  {
   "cell_type": "code",
   "execution_count": 157,
   "metadata": {
    "collapsed": true
   },
   "outputs": [],
   "source": [
    "GradDescTheta=GradDesc(train_X, mat['Y_trn'], 0.00001, 0.0001, 30)"
   ]
  },
  {
   "cell_type": "code",
   "execution_count": 290,
   "metadata": {},
   "outputs": [
    {
     "name": "stdout",
     "output_type": "stream",
     "text": [
      "1.99198833363\n"
     ]
    }
   ],
   "source": [
    "print(np.linalg.norm( np.matmul(train_X,theta)-mat['Y_trn'] )/mat['Y_trn'].shape[0]**0.5)#train error"
   ]
  },
  {
   "cell_type": "code",
   "execution_count": 274,
   "metadata": {},
   "outputs": [],
   "source": [
    "test_X=getPolyMat(mat['X_tst'],3)"
   ]
  },
  {
   "cell_type": "code",
   "execution_count": 329,
   "metadata": {
    "collapsed": true
   },
   "outputs": [
    {
     "name": "stdout",
     "output_type": "stream",
     "text": [
      "7.35885642693\n"
     ]
    }
   ],
   "source": [
    "print(np.linalg.norm( np.matmul(test_X,theta)-mat['Y_tst'] )/mat['Y_tst'].shape[0]**0.5)#test error"
   ]
  },
  {
   "cell_type": "code",
   "execution_count": 324,
   "metadata": {},
   "outputs": [],
   "source": [
    "def get_error(train, theta, test): # get rmse( root mean square error)\n",
    "    return np.linalg.norm( np.matmul(train,theta)-test )/test.shape[0]**0.5"
   ]
  },
  {
   "cell_type": "code",
   "execution_count": 195,
   "metadata": {
    "collapsed": true
   },
   "outputs": [
    {
     "data": {
      "text/plain": [
       "array([[  4.29493991e+00],\n       [  9.21188757e+00],\n       [  2.59443250e+01],\n       [  1.72976566e+02],\n       [ -8.83195394e+01],\n       [ -4.16239499e+00],\n       [  2.41985964e+01],\n       [ -2.88429172e+01],\n       [  1.73069874e+01],\n       [  4.22130540e+00],\n       [ -6.27556693e+00],\n       [ -5.80134704e+00],\n       [ -1.53802158e+01],\n       [  1.35308453e+02],\n       [  6.72211462e+01],\n       [ -3.08746675e+00],\n       [ -5.64855291e+00],\n       [ -5.24551217e+01],\n       [  1.14515305e+02],\n       [  1.94482436e+02],\n       [  1.83479282e+02],\n       [  1.60472424e+02],\n       [ -2.38893878e+01],\n       [ -4.24280172e+01],\n       [ -5.38114478e+00],\n       [  3.66389470e+01],\n       [ -4.45614036e+01],\n       [ -2.00514055e+01],\n       [ -4.04315192e+00],\n       [  2.43473444e+00],\n       [ -2.14390184e+01],\n       [  2.39922363e+01],\n       [  2.87063805e+01],\n       [ -3.60257479e+00],\n       [  1.07724086e+02],\n       [  2.69313095e+01],\n       [  7.70335542e+00],\n       [ -6.35660172e+00],\n       [ -5.52010648e+00],\n       [  3.05481004e+00],\n       [ -4.13861696e+00],\n       [  7.34853886e+01],\n       [  1.78560118e+02],\n       [ -6.31091264e+01],\n       [ -6.57440109e+00],\n       [ -2.40820235e+00],\n       [  5.92522344e-01],\n       [  1.42765208e+00],\n       [  4.81566733e+00],\n       [ -7.37512123e+00],\n       [  4.05157756e+01],\n       [  2.90911688e+00],\n       [  3.64829728e+01],\n       [  5.38592975e+01],\n       [ -3.31786109e+01],\n       [  7.00872954e+00],\n       [ -5.15976090e+00],\n       [  1.46527096e+02],\n       [ -4.97941285e+00],\n       [ -2.00560757e+00],\n       [ -3.18067758e+01],\n       [  5.12121069e+00],\n       [  1.80602415e+01],\n       [ -1.62662727e+01],\n       [ -6.58971969e+00],\n       [  2.15823250e+00],\n       [ -3.30239295e+00],\n       [  5.02949289e+01],\n       [  1.51331022e+02],\n       [  4.49575820e-01],\n       [ -3.15405052e+01],\n       [  5.83985540e+00],\n       [  2.08483565e+02],\n       [  2.42575249e+02],\n       [  4.32446050e+01],\n       [  3.66896590e+00],\n       [  4.34423462e+01],\n       [  5.87941093e+00],\n       [  2.28082720e+01],\n       [ -6.08516981e+01],\n       [ -3.53834497e+00],\n       [ -1.45689357e+00],\n       [ -4.76835389e+01],\n       [  3.70934156e+00],\n       [  1.86473641e+01],\n       [ -6.24726004e+00],\n       [  4.81228110e+00],\n       [ -1.43743653e+00],\n       [  6.31785721e+00],\n       [ -4.93082818e+00],\n       [ -2.60443032e+00],\n       [  1.25845295e+01],\n       [ -3.44089349e+00],\n       [  5.70833133e+00],\n       [ -2.20854173e+00],\n       [  1.20567021e+02],\n       [ -5.57382148e-02],\n       [ -3.72778614e+01],\n       [  1.44303027e+02],\n       [  5.46710143e+00]])"
      ]
     },
     "execution_count": 195,
     "metadata": {},
     "output_type": "execute_result"
    }
   ],
   "source": [
    "np.matmul(test_X,GradDescTheta)-mat['Y_tst']"
   ]
  },
  {
   "cell_type": "code",
   "execution_count": 275,
   "metadata": {},
   "outputs": [],
   "source": [
    "def RidgeGradDesc(train, label, learnRate, stopWhen, batchSize,avoidOverFit):# stochastic GD\n",
    "    theta1=np.zeros((train.shape[1],1))\n",
    "    multiply=learnRate*2;\n",
    "    while(True):\n",
    "      batch=random.sample(range(0,label.shape[0]),batchSize)\n",
    "      theta2 = theta1 - multiply * (np.matmul(train[batch,:].transpose(), np.matmul(train[batch,:],\n",
    "                                    theta1)- label[batch,:])+avoidOverFit*theta1)\n",
    "      if np.linalg.norm(theta2-theta1)<=stopWhen:\n",
    "          return theta2\n",
    "      theta1=theta2"
   ]
  },
  {
   "cell_type": "code",
   "execution_count": 280,
   "metadata": {},
   "outputs": [],
   "source": [
    "GradDescTheta=RidgeGradDesc(train_X, mat['Y_trn'], 0.00000005, 0.0001, 30, 0.1)"
   ]
  },
  {
   "cell_type": "code",
   "execution_count": 284,
   "metadata": {},
   "outputs": [],
   "source": [
    "def RidgecloseForm(train, label,avoidOverFit):# β=[(XtX+λI)^−1]XtY\n",
    "    return np.matmul(np.matmul( np.linalg.inv( np.matmul(train.transpose(), \n",
    "             train) + avoidOverFit*np.identity(train.shape[1]) ), train.transpose() ), label)"
   ]
  },
  {
   "cell_type": "code",
   "execution_count": 327,
   "metadata": {},
   "outputs": [],
   "source": [
    "theta=RidgecloseForm(train_X, mat['Y_trn'], 0.1)"
   ]
  },
  {
   "cell_type": "code",
   "execution_count": 297,
   "metadata": {},
   "outputs": [],
   "source": [
    "Y_trn=mat['Y_trn']"
   ]
  },
  {
   "cell_type": "code",
   "execution_count": 321,
   "metadata": {},
   "outputs": [],
   "source": [
    "foldNum=5"
   ]
  },
  {
   "cell_type": "code",
   "execution_count": 322,
   "metadata": {},
   "outputs": [],
   "source": [
    "kf = KFold(train_X.shape[0], n_folds=foldNum)"
   ]
  },
  {
   "cell_type": "code",
   "execution_count": 366,
   "metadata": {
    "collapsed": false
   },
   "outputs": [],
   "source": [
    "pararid=(100,10, 1,0.1,0.01, 0.001, 0.0001,0)\n",
    "#optAvoidOverFit=pararid[0]\n",
    "paraErrorDict={}\n",
    "for avoidOverFit in pararid:\n",
    "  sum=0;\n",
    "  count=0;\n",
    "  for train_index, test_index in kf:\n",
    "    Xtrain, Xtest = train_X[train_index], train_X[test_index]\n",
    "    ytrain, ytest = Y_trn[train_index], Y_trn[test_index]\n",
    "    sum+=get_error(Xtest,RidgecloseForm(Xtrain, ytrain,avoidOverFit),ytest);  count+=1\n",
    "  paraErrorDict[avoidOverFit]=sum/count"
   ]
  },
  {
   "cell_type": "code",
   "execution_count": 373,
   "metadata": {
    "collapsed": false
   },
   "outputs": [],
   "source": [
    "pararid=(100,10, 1,0.1,0.01, 0.001, 0.0001,0)\n",
    "#optAvoidOverFit=pararid[0]\n",
    "paraErrorDict={}\n",
    "for avoidOverFit in pararid:\n",
    "  sum=0;\n",
    "  count=0;\n",
    "  for train_index, test_index in kf:\n",
    "    Xtrain, Xtest = train_X[train_index], train_X[test_index]\n",
    "    ytrain, ytest = Y_trn[train_index], Y_trn[test_index]\n",
    "    sum+=get_error(Xtest,RidgeGradDesc(Xtrain, ytrain,0.00000005, 0.0001,30,avoidOverFit),ytest);  count+=1\n",
    "  paraErrorDict[avoidOverFit]=sum/count"
   ]
  },
  {
   "cell_type": "code",
   "execution_count": 372,
   "metadata": {},
   "outputs": [
    {
     "data": {
      "text/plain": [
       "0"
      ]
     },
     "execution_count": 372,
     "metadata": {},
     "output_type": "execute_result"
    }
   ],
   "source": [
    "optAvoidOverFit"
   ]
  },
  {
   "cell_type": "code",
   "execution_count": 380,
   "metadata": {},
   "outputs": [
    {
     "data": {
      "text/plain": [
       "{0: 9.7944525466551298,\n 0.0001: 9.7941036005048296,\n 0.001: 10.538072248155263,\n 0.01: 10.14803283594015,\n 0.1: 9.6554209752079778,\n 1: 10.091720753204244,\n 10: 9.6364980091535681,\n 100: 10.53950746642079}"
      ]
     },
     "execution_count": 380,
     "metadata": {},
     "output_type": "execute_result"
    }
   ],
   "source": [
    "paraErrorDict"
   ]
  },
  {
   "cell_type": "code",
   "execution_count": 377,
   "metadata": {},
   "outputs": [],
   "source": [
    "optAvoidOverFit=pararid[0]\n",
    "for i in range(1, len(pararid)):\n",
    "    if paraErrorDict[pararid[i]]<paraErrorDict[optAvoidOverFit]:\n",
    "        optAvoidOverFit=pararid[i]"
   ]
  },
  {
   "cell_type": "code",
   "execution_count": 379,
   "metadata": {},
   "outputs": [
    {
     "data": {
      "text/plain": [
       "10"
      ]
     },
     "execution_count": 379,
     "metadata": {},
     "output_type": "execute_result"
    }
   ],
   "source": [
    "optAvoidOverFit"
   ]
  },
  {
   "cell_type": "code",
   "execution_count": null,
   "metadata": {},
   "outputs": [],
   "source": []
  }
 ],
 "metadata": {
  "kernelspec": {
   "display_name": "Python 2",
   "language": "python",
   "name": "python2"
  },
  "language_info": {
   "codemirror_mode": {
    "name": "ipython",
    "version": 2
   },
   "file_extension": ".py",
   "mimetype": "text/x-python",
   "name": "python",
   "nbconvert_exporter": "python",
   "pygments_lexer": "ipython2",
   "version": "2.7.6"
  }
 },
 "nbformat": 4,
 "nbformat_minor": 0
}
